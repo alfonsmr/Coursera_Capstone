{
  "nbformat": 4,
  "nbformat_minor": 0,
  "metadata": {
    "colab": {
      "name": "Capstone-Prject-Predicting_severity-Accident.ipynb",
      "provenance": [],
      "collapsed_sections": [],
      "toc_visible": true
    },
    "kernelspec": {
      "name": "python3",
      "display_name": "Python 3"
    }
  },
  "cells": [
    {
      "cell_type": "markdown",
      "metadata": {
        "id": "WxoRgXChzMZV"
      },
      "source": [
        "# Applied Data Science Capstone\n",
        "---\n",
        "\n"
      ]
    },
    {
      "cell_type": "markdown",
      "metadata": {
        "id": "oau3n6oizQGw"
      },
      "source": [
        "## Predicting the severity of an accident."
      ]
    },
    {
      "cell_type": "code",
      "metadata": {
        "id": "TL_ZeT9lzEtg"
      },
      "source": [
        "import pandas as pd\n",
        "import numpy as np"
      ],
      "execution_count": 1,
      "outputs": []
    },
    {
      "cell_type": "code",
      "metadata": {
        "id": "LarF10yj9Sfy",
        "outputId": "fd37b538-a057-44de-c4e9-1446b00efbb4",
        "colab": {
          "base_uri": "https://localhost:8080/"
        }
      },
      "source": [
        "print(\"Hello Capstone Project Course!\")"
      ],
      "execution_count": 4,
      "outputs": [
        {
          "output_type": "stream",
          "text": [
            "Hello Capstone Project Course!\n"
          ],
          "name": "stdout"
        }
      ]
    },
    {
      "cell_type": "code",
      "metadata": {
        "id": "RVOWZAKW4yZW"
      },
      "source": [
        "df = pd.read_csv('/content/Data-Collisions.csv')"
      ],
      "execution_count": null,
      "outputs": []
    },
    {
      "cell_type": "code",
      "metadata": {
        "id": "1uSXfjFJ42Vu"
      },
      "source": [
        "df.head()"
      ],
      "execution_count": null,
      "outputs": []
    }
  ]
}
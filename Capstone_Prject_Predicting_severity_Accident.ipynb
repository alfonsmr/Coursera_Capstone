{
  "nbformat": 4,
  "nbformat_minor": 0,
  "metadata": {
    "colab": {
      "name": "Capstone-Prject-Predicting_severity-Accident.ipynb",
      "provenance": [],
      "collapsed_sections": [],
      "toc_visible": true
    },
    "kernelspec": {
      "name": "python3",
      "display_name": "Python 3"
    }
  },
  "cells": [
    {
      "cell_type": "markdown",
      "metadata": {
        "id": "WxoRgXChzMZV"
      },
      "source": [
        "# Applied Data Science Capstone\n",
        "---\n",
        "\n"
      ]
    },
    {
      "cell_type": "markdown",
      "metadata": {
        "id": "oau3n6oizQGw"
      },
      "source": [
        "## Predicting the severity of an accident."
      ]
    },
    {
      "cell_type": "code",
      "metadata": {
        "id": "TL_ZeT9lzEtg"
      },
      "source": [
        "import pandas as pd\n",
        "import numpy as np"
      ],
      "execution_count": 1,
      "outputs": []
    },
    {
      "cell_type": "code",
      "metadata": {
        "id": "LarF10yj9Sfy",
        "outputId": "fd37b538-a057-44de-c4e9-1446b00efbb4",
        "colab": {
          "base_uri": "https://localhost:8080/"
        }
      },
      "source": [
        "print(\"Hello Capstone Project Course!\")"
      ],
      "execution_count": 4,
      "outputs": [
        {
          "output_type": "stream",
          "text": [
            "Hello Capstone Project Course!\n"
          ],
          "name": "stdout"
        }
      ]
    },
    {
      "cell_type": "code",
      "metadata": {
        "id": "RVOWZAKW4yZW"
      },
      "source": [
        "df = pd.read_csv('/content/Data-Collisions.csv')"
      ],
      "execution_count": null,
      "outputs": []
    },
    {
      "cell_type": "code",
      "metadata": {
        "id": "1uSXfjFJ42Vu"
      },
      "source": [
        "df.head()"
      ],
      "execution_count": null,
      "outputs": []
    },
    {
      "cell_type": "code",
      "execution_count": null,
      "metadata": {},
      "outputs": [],
      "source": []
    },
    {
      "cell_type": "code",
      "execution_count": null,
      "metadata": {},
      "outputs": [],
      "source": []
    },
    {
      "source": [
        "## Introduction\n",
        "\n",
        "### A description of the problem and a discussion of the background\n",
        "\n",
        "Car accidents cause more than a million deaths every year in roads around the world. In this project, using data provided by the city of Seattle in the United States, we are going to create a model to predict the severity of an accident taken into account parameters like speed, visibility, road condition, weather, etc…\n",
        "\n",
        "The goal is to build a system capable of determining the severity of a possible accident to inform users, these users could be drivers, but also medical services and law enforcement.\n",
        "\n",
        "### Background\n",
        "\n",
        "According to the Center for Disease Control and Prevention (1), Each day, more than 3500 people are killed in road traffic accidents around the world, more than half are pedestrians, motorcyclists or cyclists.\n",
        "\n",
        "Road traffic injuries are now the eighth cause of death globally, and the leading cause of death for people from 5 to 29 years old.\n",
        "\n",
        "The problem is even worse in third world countries, where although they are accountable for 60% of vehicles they get 90% of deaths. The road traffic deaths is three times higher in third world countries than high-income countries. The cost of road traffic injuries in the world is estimated at $518 billion USD, and 65 billion USD in third world countries that is more than those countries receive as development assistance.\n",
        "\n",
        "(1) Center for Disease Control and Prevention - [https://www.cdc.gov/injury/features/global-road-safety/index.html]"
      ],
      "cell_type": "markdown",
      "metadata": {}
    },
    {
      "source": [
        "## The Data\n",
        "\n",
        "### A description of the data and how it will be used to solve the problem\n",
        "\n",
        "Collisions data is provided by Seattle Police Department and recorded by Traffic Records. The data provided includes all type of collisions from 2004 to present.\n",
        "\n",
        "The data provided includes four columns that that determine how many persons, pedestrians, cyclist or vehicles were involved in the collision, We intended to use this information in the prediction. Let's see if there is any data where no one was \"involved\" in the collision.\n",
        "\n",
        "\n",
        "\n"
      ],
      "cell_type": "markdown",
      "metadata": {}
    },
    {
      "cell_type": "code",
      "execution_count": null,
      "metadata": {},
      "outputs": [],
      "source": [
        "df1 = df[(df.PERSONCOUNT == 0) & (df.PEDCOUNT == 0) & (df.PEDCYLCOUNT == 0) & (df.VEHCOUNT == 0)]\n",
        "df1"
      ]
    }
  ]
}